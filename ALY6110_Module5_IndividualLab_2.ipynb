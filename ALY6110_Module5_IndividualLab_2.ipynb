{
  "cells": [
    {
      "cell_type": "code",
      "execution_count": 1,
      "metadata": {
        "id": "kP5MFo7WFkW0"
      },
      "outputs": [],
      "source": [
        "# install java\n",
        "!apt-get install openjdk-8-jdk-headless -qq > /dev/null\n",
        "\n",
        "# install spark (change the version number if needed)\n",
        "!wget -q https://archive.apache.org/dist/spark/spark-3.0.0/spark-3.0.0-bin-hadoop3.2.tgz\n",
        "\n",
        "# unzip the spark file to the current folder\n",
        "!tar xf spark-3.0.0-bin-hadoop3.2.tgz"
      ]
    },
    {
      "cell_type": "code",
      "execution_count": 2,
      "metadata": {
        "id": "vuVoxjd0FnQX"
      },
      "outputs": [],
      "source": [
        "# set your spark folder to your system path environment. \n",
        "import os\n",
        "os.environ[\"JAVA_HOME\"] = \"/usr/lib/jvm/java-8-openjdk-amd64\"\n",
        "os.environ[\"SPARK_HOME\"] = \"/content/spark-3.0.0-bin-hadoop3.2\"\n"
      ]
    },
    {
      "cell_type": "code",
      "execution_count": 3,
      "metadata": {
        "id": "qErn-Tj3GpqE"
      },
      "outputs": [],
      "source": [
        "# install findspark using pip\n",
        "!pip install -q findspark"
      ]
    },
    {
      "cell_type": "code",
      "execution_count": 4,
      "metadata": {
        "id": "gMoUcZLtGqA5"
      },
      "outputs": [],
      "source": [
        "import findspark"
      ]
    },
    {
      "cell_type": "code",
      "execution_count": 5,
      "metadata": {
        "id": "ltmxDBxsGzpz"
      },
      "outputs": [],
      "source": [
        "findspark.init()"
      ]
    },
    {
      "cell_type": "code",
      "execution_count": 6,
      "metadata": {
        "id": "XCPW39avG2xa"
      },
      "outputs": [],
      "source": [
        "from pyspark.sql import SparkSession"
      ]
    },
    {
      "cell_type": "code",
      "execution_count": 7,
      "metadata": {
        "id": "0xHJBH-VHSJq"
      },
      "outputs": [],
      "source": [
        "# Create SparkSession from builder\n",
        "\n",
        "spark1 = SparkSession.builder.master(\"local[*]\").getOrCreate()"
      ]
    },
    {
      "cell_type": "code",
      "execution_count": 8,
      "metadata": {
        "colab": {
          "base_uri": "https://localhost:8080/",
          "height": 219
        },
        "id": "L6Q3-qbMNLfQ",
        "outputId": "f90398ec-886c-4d33-92e0-c3e0513a3c55"
      },
      "outputs": [
        {
          "output_type": "execute_result",
          "data": {
            "text/plain": [
              "<pyspark.sql.session.SparkSession at 0x7f83984c4af0>"
            ],
            "text/html": [
              "\n",
              "            <div>\n",
              "                <p><b>SparkSession - in-memory</b></p>\n",
              "                \n",
              "        <div>\n",
              "            <p><b>SparkContext</b></p>\n",
              "\n",
              "            <p><a href=\"http://7b78fd8c2c3d:4040\">Spark UI</a></p>\n",
              "\n",
              "            <dl>\n",
              "              <dt>Version</dt>\n",
              "                <dd><code>v3.0.0</code></dd>\n",
              "              <dt>Master</dt>\n",
              "                <dd><code>local[*]</code></dd>\n",
              "              <dt>AppName</dt>\n",
              "                <dd><code>pyspark-shell</code></dd>\n",
              "            </dl>\n",
              "        </div>\n",
              "        \n",
              "            </div>\n",
              "        "
            ]
          },
          "metadata": {},
          "execution_count": 8
        }
      ],
      "source": [
        "spark1"
      ]
    },
    {
      "cell_type": "code",
      "execution_count": 9,
      "metadata": {
        "colab": {
          "base_uri": "https://localhost:8080/"
        },
        "id": "ijSMbP00NRjk",
        "outputId": "c35b3414-fab1-48ad-9d44-396fb56985c6"
      },
      "outputs": [
        {
          "output_type": "stream",
          "name": "stdout",
          "text": [
            "+---------+\n",
            "|namespace|\n",
            "+---------+\n",
            "|  default|\n",
            "+---------+\n",
            "\n"
          ]
        }
      ],
      "source": [
        "df1 = spark1.sql(\"show databases\")\n",
        "df1.show()"
      ]
    },
    {
      "cell_type": "code",
      "source": [
        "from google.colab import drive\n",
        "drive.mount('/content/drive/')"
      ],
      "metadata": {
        "colab": {
          "base_uri": "https://localhost:8080/"
        },
        "id": "g70BxAUes7FD",
        "outputId": "e559563d-afcf-4329-89ad-af3383addd95"
      },
      "execution_count": 10,
      "outputs": [
        {
          "output_type": "stream",
          "name": "stdout",
          "text": [
            "Drive already mounted at /content/drive/; to attempt to forcibly remount, call drive.mount(\"/content/drive/\", force_remount=True).\n"
          ]
        }
      ]
    },
    {
      "cell_type": "code",
      "execution_count": 11,
      "metadata": {
        "id": "3k2c_Qw8DFSV"
      },
      "outputs": [],
      "source": [
        "from google.colab import files\n",
        "path = r'/content/drive/MyDrive/Colab Notebooks/BostonHousing.csv'\n",
        "df_boston = spark1.read.csv(path, inferSchema = True, header = True)"
      ]
    },
    {
      "cell_type": "code",
      "execution_count": 12,
      "metadata": {
        "id": "loNAxpGGD1dg",
        "colab": {
          "base_uri": "https://localhost:8080/"
        },
        "outputId": "d8800b85-44e0-47ed-b828-2bd27ea935de"
      },
      "outputs": [
        {
          "output_type": "stream",
          "name": "stdout",
          "text": [
            "+-------+----+-----+----+-----+-----+----+------+---+---+-------+------+-----+----+\n",
            "|   crim|  zn|indus|chas|  nox|   rm| age|   dis|rad|tax|ptratio|     b|lstat|medv|\n",
            "+-------+----+-----+----+-----+-----+----+------+---+---+-------+------+-----+----+\n",
            "|0.00632|18.0| 2.31|   0|0.538|6.575|65.2|  4.09|  1|296|   15.3| 396.9| 4.98|24.0|\n",
            "|0.02731| 0.0| 7.07|   0|0.469|6.421|78.9|4.9671|  2|242|   17.8| 396.9| 9.14|21.6|\n",
            "|0.02729| 0.0| 7.07|   0|0.469|7.185|61.1|4.9671|  2|242|   17.8|392.83| 4.03|34.7|\n",
            "|0.03237| 0.0| 2.18|   0|0.458|6.998|45.8|6.0622|  3|222|   18.7|394.63| 2.94|33.4|\n",
            "|0.06905| 0.0| 2.18|   0|0.458|7.147|54.2|6.0622|  3|222|   18.7| 396.9| 5.33|36.2|\n",
            "+-------+----+-----+----+-----+-----+----+------+---+---+-------+------+-----+----+\n",
            "only showing top 5 rows\n",
            "\n"
          ]
        }
      ],
      "source": [
        "df_boston.show(5)"
      ]
    },
    {
      "cell_type": "code",
      "execution_count": 13,
      "metadata": {
        "id": "7h7WewedE7Qq",
        "colab": {
          "base_uri": "https://localhost:8080/"
        },
        "outputId": "163ae1f7-9d2e-47b1-9d6b-2f45814d8cb7"
      },
      "outputs": [
        {
          "output_type": "execute_result",
          "data": {
            "text/plain": [
              "506"
            ]
          },
          "metadata": {},
          "execution_count": 13
        }
      ],
      "source": [
        "df_boston.count()"
      ]
    },
    {
      "cell_type": "code",
      "execution_count": 14,
      "metadata": {
        "id": "ga0nfCDBFKuh",
        "colab": {
          "base_uri": "https://localhost:8080/"
        },
        "outputId": "005be76c-4813-481b-a7fc-3db82b6c945c"
      },
      "outputs": [
        {
          "output_type": "stream",
          "name": "stdout",
          "text": [
            "root\n",
            " |-- crim: double (nullable = true)\n",
            " |-- zn: double (nullable = true)\n",
            " |-- indus: double (nullable = true)\n",
            " |-- chas: integer (nullable = true)\n",
            " |-- nox: double (nullable = true)\n",
            " |-- rm: double (nullable = true)\n",
            " |-- age: double (nullable = true)\n",
            " |-- dis: double (nullable = true)\n",
            " |-- rad: integer (nullable = true)\n",
            " |-- tax: integer (nullable = true)\n",
            " |-- ptratio: double (nullable = true)\n",
            " |-- b: double (nullable = true)\n",
            " |-- lstat: double (nullable = true)\n",
            " |-- medv: double (nullable = true)\n",
            "\n"
          ]
        }
      ],
      "source": [
        "df_boston.printSchema()"
      ]
    },
    {
      "cell_type": "code",
      "execution_count": 15,
      "metadata": {
        "id": "iEFhv5UBFRPC"
      },
      "outputs": [],
      "source": [
        "#df_boston = df_boston.drop(df_boston.b)"
      ]
    },
    {
      "cell_type": "code",
      "execution_count": 16,
      "metadata": {
        "id": "nrTjPPsnFXAJ",
        "colab": {
          "base_uri": "https://localhost:8080/"
        },
        "outputId": "b19107af-d441-47c4-c86a-280d15047e0b"
      },
      "outputs": [
        {
          "output_type": "stream",
          "name": "stdout",
          "text": [
            "+-------+----+-----+----+-----+-----+----+------+---+---+-------+------+-----+----+\n",
            "|   crim|  zn|indus|chas|  nox|   rm| age|   dis|rad|tax|ptratio|     b|lstat|medv|\n",
            "+-------+----+-----+----+-----+-----+----+------+---+---+-------+------+-----+----+\n",
            "|0.00632|18.0| 2.31|   0|0.538|6.575|65.2|  4.09|  1|296|   15.3| 396.9| 4.98|24.0|\n",
            "|0.02731| 0.0| 7.07|   0|0.469|6.421|78.9|4.9671|  2|242|   17.8| 396.9| 9.14|21.6|\n",
            "|0.02729| 0.0| 7.07|   0|0.469|7.185|61.1|4.9671|  2|242|   17.8|392.83| 4.03|34.7|\n",
            "|0.03237| 0.0| 2.18|   0|0.458|6.998|45.8|6.0622|  3|222|   18.7|394.63| 2.94|33.4|\n",
            "|0.06905| 0.0| 2.18|   0|0.458|7.147|54.2|6.0622|  3|222|   18.7| 396.9| 5.33|36.2|\n",
            "+-------+----+-----+----+-----+-----+----+------+---+---+-------+------+-----+----+\n",
            "only showing top 5 rows\n",
            "\n"
          ]
        }
      ],
      "source": [
        "df_boston.show(5)"
      ]
    },
    {
      "cell_type": "code",
      "execution_count": 17,
      "metadata": {
        "id": "xxkQPxEgJSAG"
      },
      "outputs": [],
      "source": [
        "from pyspark.sql.functions import round, col"
      ]
    },
    {
      "cell_type": "code",
      "execution_count": 18,
      "metadata": {
        "id": "F7iW1yJOFb1S"
      },
      "outputs": [],
      "source": [
        "for cols in df_boston.columns:\n",
        "  df_boston = df_boston.withColumn(cols, round(cols,2))"
      ]
    },
    {
      "cell_type": "code",
      "execution_count": 19,
      "metadata": {
        "id": "9iV3QWN2JmL5",
        "colab": {
          "base_uri": "https://localhost:8080/"
        },
        "outputId": "58eab502-c0d0-42ab-c9d9-d289eb77c1ca"
      },
      "outputs": [
        {
          "output_type": "stream",
          "name": "stdout",
          "text": [
            "+----+----+-----+----+----+----+----+----+---+---+-------+------+-----+----+\n",
            "|crim|  zn|indus|chas| nox|  rm| age| dis|rad|tax|ptratio|     b|lstat|medv|\n",
            "+----+----+-----+----+----+----+----+----+---+---+-------+------+-----+----+\n",
            "|0.01|18.0| 2.31|   0|0.54|6.58|65.2|4.09|  1|296|   15.3| 396.9| 4.98|24.0|\n",
            "|0.03| 0.0| 7.07|   0|0.47|6.42|78.9|4.97|  2|242|   17.8| 396.9| 9.14|21.6|\n",
            "|0.03| 0.0| 7.07|   0|0.47|7.19|61.1|4.97|  2|242|   17.8|392.83| 4.03|34.7|\n",
            "|0.03| 0.0| 2.18|   0|0.46| 7.0|45.8|6.06|  3|222|   18.7|394.63| 2.94|33.4|\n",
            "|0.07| 0.0| 2.18|   0|0.46|7.15|54.2|6.06|  3|222|   18.7| 396.9| 5.33|36.2|\n",
            "+----+----+-----+----+----+----+----+----+---+---+-------+------+-----+----+\n",
            "only showing top 5 rows\n",
            "\n"
          ]
        }
      ],
      "source": [
        "df_boston.show(5)"
      ]
    },
    {
      "cell_type": "code",
      "execution_count": 20,
      "metadata": {
        "id": "2JRB-TZ5Jn0q"
      },
      "outputs": [],
      "source": [
        "from pyspark.sql.functions import lit"
      ]
    },
    {
      "cell_type": "code",
      "execution_count": 21,
      "metadata": {
        "id": "Pxcdqv14JzGB"
      },
      "outputs": [],
      "source": [
        "df_boston = df_boston.withColumn(\"Age10\", lit(df_boston.age + (df_boston.age*0.1)))\n",
        "for cols in df_boston.columns:\n",
        "  df_boston = df_boston.withColumn(cols, round(cols,2))"
      ]
    },
    {
      "cell_type": "code",
      "execution_count": 22,
      "metadata": {
        "id": "9wq-ssJwKG62",
        "colab": {
          "base_uri": "https://localhost:8080/"
        },
        "outputId": "4143ecd8-5bce-45fb-9727-a9f43924fa0e"
      },
      "outputs": [
        {
          "output_type": "stream",
          "name": "stdout",
          "text": [
            "+----+----+-----+----+----+----+----+----+---+---+-------+------+-----+----+-----+\n",
            "|crim|  zn|indus|chas| nox|  rm| age| dis|rad|tax|ptratio|     b|lstat|medv|Age10|\n",
            "+----+----+-----+----+----+----+----+----+---+---+-------+------+-----+----+-----+\n",
            "|0.01|18.0| 2.31|   0|0.54|6.58|65.2|4.09|  1|296|   15.3| 396.9| 4.98|24.0|71.72|\n",
            "|0.03| 0.0| 7.07|   0|0.47|6.42|78.9|4.97|  2|242|   17.8| 396.9| 9.14|21.6|86.79|\n",
            "|0.03| 0.0| 7.07|   0|0.47|7.19|61.1|4.97|  2|242|   17.8|392.83| 4.03|34.7|67.21|\n",
            "|0.03| 0.0| 2.18|   0|0.46| 7.0|45.8|6.06|  3|222|   18.7|394.63| 2.94|33.4|50.38|\n",
            "|0.07| 0.0| 2.18|   0|0.46|7.15|54.2|6.06|  3|222|   18.7| 396.9| 5.33|36.2|59.62|\n",
            "+----+----+-----+----+----+----+----+----+---+---+-------+------+-----+----+-----+\n",
            "only showing top 5 rows\n",
            "\n"
          ]
        }
      ],
      "source": [
        "df_boston.show(5)"
      ]
    },
    {
      "cell_type": "code",
      "execution_count": 23,
      "metadata": {
        "id": "pfBpserUKLTm"
      },
      "outputs": [],
      "source": [
        "import matplotlib.pyplot as plt\n",
        "import seaborn as sns"
      ]
    },
    {
      "cell_type": "code",
      "execution_count": 24,
      "metadata": {
        "id": "ZexKLLsjTMp5",
        "colab": {
          "base_uri": "https://localhost:8080/"
        },
        "outputId": "a8220604-5565-4a43-a437-20f5b26567a0"
      },
      "outputs": [
        {
          "output_type": "stream",
          "name": "stdout",
          "text": [
            "+---------+\n",
            "|namespace|\n",
            "+---------+\n",
            "|  default|\n",
            "+---------+\n",
            "\n"
          ]
        }
      ],
      "source": [
        "spark1.sql(\"show databases\").show()"
      ]
    },
    {
      "cell_type": "code",
      "execution_count": 25,
      "metadata": {
        "id": "NCurVr0fTxol",
        "colab": {
          "base_uri": "https://localhost:8080/"
        },
        "outputId": "e2dcdbd0-d7c7-4d91-c5ef-44e4baf1b365"
      },
      "outputs": [
        {
          "output_type": "execute_result",
          "data": {
            "text/plain": [
              "DataFrame[]"
            ]
          },
          "metadata": {},
          "execution_count": 25
        }
      ],
      "source": [
        "spark1.sql(\"CREATE DATABASE BostonH\")"
      ]
    },
    {
      "cell_type": "code",
      "execution_count": 26,
      "metadata": {
        "id": "lkketVt8Tmn9"
      },
      "outputs": [],
      "source": [
        "df_db = spark1.sql(\"show databases\")"
      ]
    },
    {
      "cell_type": "code",
      "execution_count": 27,
      "metadata": {
        "id": "ZS42ErZ9T_TW",
        "colab": {
          "base_uri": "https://localhost:8080/"
        },
        "outputId": "16385771-0c12-40e8-8a49-d80955261359"
      },
      "outputs": [
        {
          "output_type": "stream",
          "name": "stdout",
          "text": [
            "+---------+\n",
            "|namespace|\n",
            "+---------+\n",
            "|  bostonh|\n",
            "|  default|\n",
            "+---------+\n",
            "\n"
          ]
        }
      ],
      "source": [
        "df_db.show()"
      ]
    },
    {
      "cell_type": "code",
      "execution_count": 88,
      "metadata": {
        "id": "2lUaFZDBUJmb"
      },
      "outputs": [],
      "source": [
        "df2 = spark1.read.csv(path, inferSchema = True, header = True)"
      ]
    },
    {
      "cell_type": "code",
      "execution_count": 89,
      "metadata": {
        "id": "5U8uKzp_Ujwt"
      },
      "outputs": [],
      "source": [
        "df2.write.mode(\"overwrite\").saveAsTable(\"bostonh.bos_housing\")"
      ]
    },
    {
      "cell_type": "code",
      "execution_count": 90,
      "metadata": {
        "id": "GCBik5KAUw3Q",
        "colab": {
          "base_uri": "https://localhost:8080/"
        },
        "outputId": "993786a3-0a55-4e13-c968-9fbbb75af08f"
      },
      "outputs": [
        {
          "output_type": "stream",
          "name": "stdout",
          "text": [
            "+-------+----+-----+----+-----+-----+-----+------+---+---+-------+------+-----+----+\n",
            "|   crim|  zn|indus|chas|  nox|   rm|  age|   dis|rad|tax|ptratio|     b|lstat|medv|\n",
            "+-------+----+-----+----+-----+-----+-----+------+---+---+-------+------+-----+----+\n",
            "|0.00632|18.0| 2.31|   0|0.538|6.575| 65.2|  4.09|  1|296|   15.3| 396.9| 4.98|24.0|\n",
            "|0.02731| 0.0| 7.07|   0|0.469|6.421| 78.9|4.9671|  2|242|   17.8| 396.9| 9.14|21.6|\n",
            "|0.02729| 0.0| 7.07|   0|0.469|7.185| 61.1|4.9671|  2|242|   17.8|392.83| 4.03|34.7|\n",
            "|0.03237| 0.0| 2.18|   0|0.458|6.998| 45.8|6.0622|  3|222|   18.7|394.63| 2.94|33.4|\n",
            "|0.06905| 0.0| 2.18|   0|0.458|7.147| 54.2|6.0622|  3|222|   18.7| 396.9| 5.33|36.2|\n",
            "|0.02985| 0.0| 2.18|   0|0.458| 6.43| 58.7|6.0622|  3|222|   18.7|394.12| 5.21|28.7|\n",
            "|0.08829|12.5| 7.87|   0|0.524|6.012| 66.6|5.5605|  5|311|   15.2| 395.6|12.43|22.9|\n",
            "|0.14455|12.5| 7.87|   0|0.524|6.172| 96.1|5.9505|  5|311|   15.2| 396.9|19.15|27.1|\n",
            "|0.21124|12.5| 7.87|   0|0.524|5.631|100.0|6.0821|  5|311|   15.2|386.63|29.93|16.5|\n",
            "|0.17004|12.5| 7.87|   0|0.524|6.004| 85.9|6.5921|  5|311|   15.2|386.71| 17.1|18.9|\n",
            "|0.22489|12.5| 7.87|   0|0.524|6.377| 94.3|6.3467|  5|311|   15.2|392.52|20.45|15.0|\n",
            "|0.11747|12.5| 7.87|   0|0.524|6.009| 82.9|6.2267|  5|311|   15.2| 396.9|13.27|18.9|\n",
            "|0.09378|12.5| 7.87|   0|0.524|5.889| 39.0|5.4509|  5|311|   15.2| 390.5|15.71|21.7|\n",
            "|0.62976| 0.0| 8.14|   0|0.538|5.949| 61.8|4.7075|  4|307|   21.0| 396.9| 8.26|20.4|\n",
            "|0.63796| 0.0| 8.14|   0|0.538|6.096| 84.5|4.4619|  4|307|   21.0|380.02|10.26|18.2|\n",
            "|0.62739| 0.0| 8.14|   0|0.538|5.834| 56.5|4.4986|  4|307|   21.0|395.62| 8.47|19.9|\n",
            "|1.05393| 0.0| 8.14|   0|0.538|5.935| 29.3|4.4986|  4|307|   21.0|386.85| 6.58|23.1|\n",
            "| 0.7842| 0.0| 8.14|   0|0.538| 5.99| 81.7|4.2579|  4|307|   21.0|386.75|14.67|17.5|\n",
            "|0.80271| 0.0| 8.14|   0|0.538|5.456| 36.6|3.7965|  4|307|   21.0|288.99|11.69|20.2|\n",
            "| 0.7258| 0.0| 8.14|   0|0.538|5.727| 69.5|3.7965|  4|307|   21.0|390.95|11.28|18.2|\n",
            "+-------+----+-----+----+-----+-----+-----+------+---+---+-------+------+-----+----+\n",
            "only showing top 20 rows\n",
            "\n"
          ]
        }
      ],
      "source": [
        "spark1.sql(\"select * from bostonh.bos_housing\").show()"
      ]
    },
    {
      "cell_type": "code",
      "execution_count": 99,
      "metadata": {
        "id": "oTw29D5kVDaF",
        "colab": {
          "base_uri": "https://localhost:8080/",
          "height": 488
        },
        "outputId": "06c73ca8-cf20-4c88-fd80-26f5663fdab3"
      },
      "outputs": [
        {
          "output_type": "execute_result",
          "data": {
            "text/plain": [
              "         count        mean         std        min         25%        50%  \\\n",
              "crim     506.0    3.613524    8.601545    0.00632    0.082045    0.25651   \n",
              "zn       506.0   11.363636   23.322453    0.00000    0.000000    0.00000   \n",
              "indus    506.0   11.136779    6.860353    0.46000    5.190000    9.69000   \n",
              "chas     506.0    0.069170    0.253994    0.00000    0.000000    0.00000   \n",
              "nox      506.0    0.554695    0.115878    0.38500    0.449000    0.53800   \n",
              "rm       506.0    6.284634    0.702617    3.56100    5.885500    6.20850   \n",
              "age      506.0   68.574901   28.148861    2.90000   45.025000   77.50000   \n",
              "dis      506.0    3.795043    2.105710    1.12960    2.100175    3.20745   \n",
              "rad      506.0    9.549407    8.707259    1.00000    4.000000    5.00000   \n",
              "tax      506.0  408.237154  168.537116  187.00000  279.000000  330.00000   \n",
              "ptratio  506.0   18.455534    2.164946   12.60000   17.400000   19.05000   \n",
              "b        506.0  356.674032   91.294864    0.32000  375.377500  391.44000   \n",
              "lstat    506.0   12.653063    7.141062    1.73000    6.950000   11.36000   \n",
              "medv     506.0   22.532806    9.197104    5.00000   17.025000   21.20000   \n",
              "\n",
              "                75%       max  \n",
              "crim       3.677083   88.9762  \n",
              "zn        12.500000  100.0000  \n",
              "indus     18.100000   27.7400  \n",
              "chas       0.000000    1.0000  \n",
              "nox        0.624000    0.8710  \n",
              "rm         6.623500    8.7800  \n",
              "age       94.075000  100.0000  \n",
              "dis        5.188425   12.1265  \n",
              "rad       24.000000   24.0000  \n",
              "tax      666.000000  711.0000  \n",
              "ptratio   20.200000   22.0000  \n",
              "b        396.225000  396.9000  \n",
              "lstat     16.955000   37.9700  \n",
              "medv      25.000000   50.0000  "
            ],
            "text/html": [
              "\n",
              "  <div id=\"df-f08bcc37-a89f-4c0a-9510-d67704a7b64e\">\n",
              "    <div class=\"colab-df-container\">\n",
              "      <div>\n",
              "<style scoped>\n",
              "    .dataframe tbody tr th:only-of-type {\n",
              "        vertical-align: middle;\n",
              "    }\n",
              "\n",
              "    .dataframe tbody tr th {\n",
              "        vertical-align: top;\n",
              "    }\n",
              "\n",
              "    .dataframe thead th {\n",
              "        text-align: right;\n",
              "    }\n",
              "</style>\n",
              "<table border=\"1\" class=\"dataframe\">\n",
              "  <thead>\n",
              "    <tr style=\"text-align: right;\">\n",
              "      <th></th>\n",
              "      <th>count</th>\n",
              "      <th>mean</th>\n",
              "      <th>std</th>\n",
              "      <th>min</th>\n",
              "      <th>25%</th>\n",
              "      <th>50%</th>\n",
              "      <th>75%</th>\n",
              "      <th>max</th>\n",
              "    </tr>\n",
              "  </thead>\n",
              "  <tbody>\n",
              "    <tr>\n",
              "      <th>crim</th>\n",
              "      <td>506.0</td>\n",
              "      <td>3.613524</td>\n",
              "      <td>8.601545</td>\n",
              "      <td>0.00632</td>\n",
              "      <td>0.082045</td>\n",
              "      <td>0.25651</td>\n",
              "      <td>3.677083</td>\n",
              "      <td>88.9762</td>\n",
              "    </tr>\n",
              "    <tr>\n",
              "      <th>zn</th>\n",
              "      <td>506.0</td>\n",
              "      <td>11.363636</td>\n",
              "      <td>23.322453</td>\n",
              "      <td>0.00000</td>\n",
              "      <td>0.000000</td>\n",
              "      <td>0.00000</td>\n",
              "      <td>12.500000</td>\n",
              "      <td>100.0000</td>\n",
              "    </tr>\n",
              "    <tr>\n",
              "      <th>indus</th>\n",
              "      <td>506.0</td>\n",
              "      <td>11.136779</td>\n",
              "      <td>6.860353</td>\n",
              "      <td>0.46000</td>\n",
              "      <td>5.190000</td>\n",
              "      <td>9.69000</td>\n",
              "      <td>18.100000</td>\n",
              "      <td>27.7400</td>\n",
              "    </tr>\n",
              "    <tr>\n",
              "      <th>chas</th>\n",
              "      <td>506.0</td>\n",
              "      <td>0.069170</td>\n",
              "      <td>0.253994</td>\n",
              "      <td>0.00000</td>\n",
              "      <td>0.000000</td>\n",
              "      <td>0.00000</td>\n",
              "      <td>0.000000</td>\n",
              "      <td>1.0000</td>\n",
              "    </tr>\n",
              "    <tr>\n",
              "      <th>nox</th>\n",
              "      <td>506.0</td>\n",
              "      <td>0.554695</td>\n",
              "      <td>0.115878</td>\n",
              "      <td>0.38500</td>\n",
              "      <td>0.449000</td>\n",
              "      <td>0.53800</td>\n",
              "      <td>0.624000</td>\n",
              "      <td>0.8710</td>\n",
              "    </tr>\n",
              "    <tr>\n",
              "      <th>rm</th>\n",
              "      <td>506.0</td>\n",
              "      <td>6.284634</td>\n",
              "      <td>0.702617</td>\n",
              "      <td>3.56100</td>\n",
              "      <td>5.885500</td>\n",
              "      <td>6.20850</td>\n",
              "      <td>6.623500</td>\n",
              "      <td>8.7800</td>\n",
              "    </tr>\n",
              "    <tr>\n",
              "      <th>age</th>\n",
              "      <td>506.0</td>\n",
              "      <td>68.574901</td>\n",
              "      <td>28.148861</td>\n",
              "      <td>2.90000</td>\n",
              "      <td>45.025000</td>\n",
              "      <td>77.50000</td>\n",
              "      <td>94.075000</td>\n",
              "      <td>100.0000</td>\n",
              "    </tr>\n",
              "    <tr>\n",
              "      <th>dis</th>\n",
              "      <td>506.0</td>\n",
              "      <td>3.795043</td>\n",
              "      <td>2.105710</td>\n",
              "      <td>1.12960</td>\n",
              "      <td>2.100175</td>\n",
              "      <td>3.20745</td>\n",
              "      <td>5.188425</td>\n",
              "      <td>12.1265</td>\n",
              "    </tr>\n",
              "    <tr>\n",
              "      <th>rad</th>\n",
              "      <td>506.0</td>\n",
              "      <td>9.549407</td>\n",
              "      <td>8.707259</td>\n",
              "      <td>1.00000</td>\n",
              "      <td>4.000000</td>\n",
              "      <td>5.00000</td>\n",
              "      <td>24.000000</td>\n",
              "      <td>24.0000</td>\n",
              "    </tr>\n",
              "    <tr>\n",
              "      <th>tax</th>\n",
              "      <td>506.0</td>\n",
              "      <td>408.237154</td>\n",
              "      <td>168.537116</td>\n",
              "      <td>187.00000</td>\n",
              "      <td>279.000000</td>\n",
              "      <td>330.00000</td>\n",
              "      <td>666.000000</td>\n",
              "      <td>711.0000</td>\n",
              "    </tr>\n",
              "    <tr>\n",
              "      <th>ptratio</th>\n",
              "      <td>506.0</td>\n",
              "      <td>18.455534</td>\n",
              "      <td>2.164946</td>\n",
              "      <td>12.60000</td>\n",
              "      <td>17.400000</td>\n",
              "      <td>19.05000</td>\n",
              "      <td>20.200000</td>\n",
              "      <td>22.0000</td>\n",
              "    </tr>\n",
              "    <tr>\n",
              "      <th>b</th>\n",
              "      <td>506.0</td>\n",
              "      <td>356.674032</td>\n",
              "      <td>91.294864</td>\n",
              "      <td>0.32000</td>\n",
              "      <td>375.377500</td>\n",
              "      <td>391.44000</td>\n",
              "      <td>396.225000</td>\n",
              "      <td>396.9000</td>\n",
              "    </tr>\n",
              "    <tr>\n",
              "      <th>lstat</th>\n",
              "      <td>506.0</td>\n",
              "      <td>12.653063</td>\n",
              "      <td>7.141062</td>\n",
              "      <td>1.73000</td>\n",
              "      <td>6.950000</td>\n",
              "      <td>11.36000</td>\n",
              "      <td>16.955000</td>\n",
              "      <td>37.9700</td>\n",
              "    </tr>\n",
              "    <tr>\n",
              "      <th>medv</th>\n",
              "      <td>506.0</td>\n",
              "      <td>22.532806</td>\n",
              "      <td>9.197104</td>\n",
              "      <td>5.00000</td>\n",
              "      <td>17.025000</td>\n",
              "      <td>21.20000</td>\n",
              "      <td>25.000000</td>\n",
              "      <td>50.0000</td>\n",
              "    </tr>\n",
              "  </tbody>\n",
              "</table>\n",
              "</div>\n",
              "      <button class=\"colab-df-convert\" onclick=\"convertToInteractive('df-f08bcc37-a89f-4c0a-9510-d67704a7b64e')\"\n",
              "              title=\"Convert this dataframe to an interactive table.\"\n",
              "              style=\"display:none;\">\n",
              "        \n",
              "  <svg xmlns=\"http://www.w3.org/2000/svg\" height=\"24px\"viewBox=\"0 0 24 24\"\n",
              "       width=\"24px\">\n",
              "    <path d=\"M0 0h24v24H0V0z\" fill=\"none\"/>\n",
              "    <path d=\"M18.56 5.44l.94 2.06.94-2.06 2.06-.94-2.06-.94-.94-2.06-.94 2.06-2.06.94zm-11 1L8.5 8.5l.94-2.06 2.06-.94-2.06-.94L8.5 2.5l-.94 2.06-2.06.94zm10 10l.94 2.06.94-2.06 2.06-.94-2.06-.94-.94-2.06-.94 2.06-2.06.94z\"/><path d=\"M17.41 7.96l-1.37-1.37c-.4-.4-.92-.59-1.43-.59-.52 0-1.04.2-1.43.59L10.3 9.45l-7.72 7.72c-.78.78-.78 2.05 0 2.83L4 21.41c.39.39.9.59 1.41.59.51 0 1.02-.2 1.41-.59l7.78-7.78 2.81-2.81c.8-.78.8-2.07 0-2.86zM5.41 20L4 18.59l7.72-7.72 1.47 1.35L5.41 20z\"/>\n",
              "  </svg>\n",
              "      </button>\n",
              "      \n",
              "  <style>\n",
              "    .colab-df-container {\n",
              "      display:flex;\n",
              "      flex-wrap:wrap;\n",
              "      gap: 12px;\n",
              "    }\n",
              "\n",
              "    .colab-df-convert {\n",
              "      background-color: #E8F0FE;\n",
              "      border: none;\n",
              "      border-radius: 50%;\n",
              "      cursor: pointer;\n",
              "      display: none;\n",
              "      fill: #1967D2;\n",
              "      height: 32px;\n",
              "      padding: 0 0 0 0;\n",
              "      width: 32px;\n",
              "    }\n",
              "\n",
              "    .colab-df-convert:hover {\n",
              "      background-color: #E2EBFA;\n",
              "      box-shadow: 0px 1px 2px rgba(60, 64, 67, 0.3), 0px 1px 3px 1px rgba(60, 64, 67, 0.15);\n",
              "      fill: #174EA6;\n",
              "    }\n",
              "\n",
              "    [theme=dark] .colab-df-convert {\n",
              "      background-color: #3B4455;\n",
              "      fill: #D2E3FC;\n",
              "    }\n",
              "\n",
              "    [theme=dark] .colab-df-convert:hover {\n",
              "      background-color: #434B5C;\n",
              "      box-shadow: 0px 1px 3px 1px rgba(0, 0, 0, 0.15);\n",
              "      filter: drop-shadow(0px 1px 2px rgba(0, 0, 0, 0.3));\n",
              "      fill: #FFFFFF;\n",
              "    }\n",
              "  </style>\n",
              "\n",
              "      <script>\n",
              "        const buttonEl =\n",
              "          document.querySelector('#df-f08bcc37-a89f-4c0a-9510-d67704a7b64e button.colab-df-convert');\n",
              "        buttonEl.style.display =\n",
              "          google.colab.kernel.accessAllowed ? 'block' : 'none';\n",
              "\n",
              "        async function convertToInteractive(key) {\n",
              "          const element = document.querySelector('#df-f08bcc37-a89f-4c0a-9510-d67704a7b64e');\n",
              "          const dataTable =\n",
              "            await google.colab.kernel.invokeFunction('convertToInteractive',\n",
              "                                                     [key], {});\n",
              "          if (!dataTable) return;\n",
              "\n",
              "          const docLinkHtml = 'Like what you see? Visit the ' +\n",
              "            '<a target=\"_blank\" href=https://colab.research.google.com/notebooks/data_table.ipynb>data table notebook</a>'\n",
              "            + ' to learn more about interactive tables.';\n",
              "          element.innerHTML = '';\n",
              "          dataTable['output_type'] = 'display_data';\n",
              "          await google.colab.output.renderOutput(dataTable, element);\n",
              "          const docLink = document.createElement('div');\n",
              "          docLink.innerHTML = docLinkHtml;\n",
              "          element.appendChild(docLink);\n",
              "        }\n",
              "      </script>\n",
              "    </div>\n",
              "  </div>\n",
              "  "
            ]
          },
          "metadata": {},
          "execution_count": 99
        }
      ],
      "source": [
        "df_pd = df2.toPandas()\n",
        "df_pd.describe().T"
      ]
    },
    {
      "cell_type": "code",
      "execution_count": 32,
      "metadata": {
        "id": "9Mrgdg5rVwLA"
      },
      "outputs": [],
      "source": [
        "from pyspark.ml.linalg import Vectors\n",
        "from pyspark.ml.feature import VectorAssembler"
      ]
    },
    {
      "cell_type": "code",
      "source": [
        "df_va = df2[['crim','zn','indus','chas','nox','rm','age','dis','rad','tax','ptratio','b','lstat']]\n",
        "df_target = df2[['medv']]"
      ],
      "metadata": {
        "id": "7ncU9mCE_Qg8"
      },
      "execution_count": 33,
      "outputs": []
    },
    {
      "cell_type": "code",
      "execution_count": 136,
      "metadata": {
        "id": "pP--k8CDWIWj"
      },
      "outputs": [],
      "source": [
        "assembler = VectorAssembler(inputCols = df2[['crim','zn','indus','chas','nox','rm','age','dis','rad','tax','ptratio','b','lstat']].columns, outputCol='Attributes')\n",
        "output = assembler.transform(df2[['crim','zn','indus','chas','nox','rm','age','dis','rad','tax','ptratio','b','lstat','medv']])"
      ]
    },
    {
      "cell_type": "code",
      "execution_count": 138,
      "metadata": {
        "id": "ZFDJBoWMW8hU",
        "colab": {
          "base_uri": "https://localhost:8080/"
        },
        "outputId": "7b0705b2-a791-482a-8233-b8158379a4b0"
      },
      "outputs": [
        {
          "output_type": "stream",
          "name": "stdout",
          "text": [
            "+-------+----+-----+----+-----+-----+-----+------+---+---+-------+------+-----+----+--------------------+\n",
            "|   crim|  zn|indus|chas|  nox|   rm|  age|   dis|rad|tax|ptratio|     b|lstat|medv|          Attributes|\n",
            "+-------+----+-----+----+-----+-----+-----+------+---+---+-------+------+-----+----+--------------------+\n",
            "|0.00632|18.0| 2.31|   0|0.538|6.575| 65.2|  4.09|  1|296|   15.3| 396.9| 4.98|24.0|[0.00632,18.0,2.3...|\n",
            "|0.02731| 0.0| 7.07|   0|0.469|6.421| 78.9|4.9671|  2|242|   17.8| 396.9| 9.14|21.6|[0.02731,0.0,7.07...|\n",
            "|0.02729| 0.0| 7.07|   0|0.469|7.185| 61.1|4.9671|  2|242|   17.8|392.83| 4.03|34.7|[0.02729,0.0,7.07...|\n",
            "|0.03237| 0.0| 2.18|   0|0.458|6.998| 45.8|6.0622|  3|222|   18.7|394.63| 2.94|33.4|[0.03237,0.0,2.18...|\n",
            "|0.06905| 0.0| 2.18|   0|0.458|7.147| 54.2|6.0622|  3|222|   18.7| 396.9| 5.33|36.2|[0.06905,0.0,2.18...|\n",
            "|0.02985| 0.0| 2.18|   0|0.458| 6.43| 58.7|6.0622|  3|222|   18.7|394.12| 5.21|28.7|[0.02985,0.0,2.18...|\n",
            "|0.08829|12.5| 7.87|   0|0.524|6.012| 66.6|5.5605|  5|311|   15.2| 395.6|12.43|22.9|[0.08829,12.5,7.8...|\n",
            "|0.14455|12.5| 7.87|   0|0.524|6.172| 96.1|5.9505|  5|311|   15.2| 396.9|19.15|27.1|[0.14455,12.5,7.8...|\n",
            "|0.21124|12.5| 7.87|   0|0.524|5.631|100.0|6.0821|  5|311|   15.2|386.63|29.93|16.5|[0.21124,12.5,7.8...|\n",
            "|0.17004|12.5| 7.87|   0|0.524|6.004| 85.9|6.5921|  5|311|   15.2|386.71| 17.1|18.9|[0.17004,12.5,7.8...|\n",
            "|0.22489|12.5| 7.87|   0|0.524|6.377| 94.3|6.3467|  5|311|   15.2|392.52|20.45|15.0|[0.22489,12.5,7.8...|\n",
            "|0.11747|12.5| 7.87|   0|0.524|6.009| 82.9|6.2267|  5|311|   15.2| 396.9|13.27|18.9|[0.11747,12.5,7.8...|\n",
            "|0.09378|12.5| 7.87|   0|0.524|5.889| 39.0|5.4509|  5|311|   15.2| 390.5|15.71|21.7|[0.09378,12.5,7.8...|\n",
            "|0.62976| 0.0| 8.14|   0|0.538|5.949| 61.8|4.7075|  4|307|   21.0| 396.9| 8.26|20.4|[0.62976,0.0,8.14...|\n",
            "|0.63796| 0.0| 8.14|   0|0.538|6.096| 84.5|4.4619|  4|307|   21.0|380.02|10.26|18.2|[0.63796,0.0,8.14...|\n",
            "|0.62739| 0.0| 8.14|   0|0.538|5.834| 56.5|4.4986|  4|307|   21.0|395.62| 8.47|19.9|[0.62739,0.0,8.14...|\n",
            "|1.05393| 0.0| 8.14|   0|0.538|5.935| 29.3|4.4986|  4|307|   21.0|386.85| 6.58|23.1|[1.05393,0.0,8.14...|\n",
            "| 0.7842| 0.0| 8.14|   0|0.538| 5.99| 81.7|4.2579|  4|307|   21.0|386.75|14.67|17.5|[0.7842,0.0,8.14,...|\n",
            "|0.80271| 0.0| 8.14|   0|0.538|5.456| 36.6|3.7965|  4|307|   21.0|288.99|11.69|20.2|[0.80271,0.0,8.14...|\n",
            "| 0.7258| 0.0| 8.14|   0|0.538|5.727| 69.5|3.7965|  4|307|   21.0|390.95|11.28|18.2|[0.7258,0.0,8.14,...|\n",
            "+-------+----+-----+----+-----+-----+-----+------+---+---+-------+------+-----+----+--------------------+\n",
            "only showing top 20 rows\n",
            "\n"
          ]
        }
      ],
      "source": [
        "output.show()"
      ]
    },
    {
      "cell_type": "code",
      "execution_count": 141,
      "metadata": {
        "id": "JYx6sGr7W991",
        "colab": {
          "base_uri": "https://localhost:8080/"
        },
        "outputId": "273168da-9b58-47cc-e1ca-94567e0fc0c1"
      },
      "outputs": [
        {
          "output_type": "stream",
          "name": "stdout",
          "text": [
            "+--------------------+----+\n",
            "|          Attributes|medv|\n",
            "+--------------------+----+\n",
            "|[0.00632,18.0,2.3...|24.0|\n",
            "|[0.02731,0.0,7.07...|21.6|\n",
            "|[0.02729,0.0,7.07...|34.7|\n",
            "|[0.03237,0.0,2.18...|33.4|\n",
            "|[0.06905,0.0,2.18...|36.2|\n",
            "|[0.02985,0.0,2.18...|28.7|\n",
            "|[0.08829,12.5,7.8...|22.9|\n",
            "|[0.14455,12.5,7.8...|27.1|\n",
            "|[0.21124,12.5,7.8...|16.5|\n",
            "|[0.17004,12.5,7.8...|18.9|\n",
            "|[0.22489,12.5,7.8...|15.0|\n",
            "|[0.11747,12.5,7.8...|18.9|\n",
            "|[0.09378,12.5,7.8...|21.7|\n",
            "|[0.62976,0.0,8.14...|20.4|\n",
            "|[0.63796,0.0,8.14...|18.2|\n",
            "|[0.62739,0.0,8.14...|19.9|\n",
            "|[1.05393,0.0,8.14...|23.1|\n",
            "|[0.7842,0.0,8.14,...|17.5|\n",
            "|[0.80271,0.0,8.14...|20.2|\n",
            "|[0.7258,0.0,8.14,...|18.2|\n",
            "+--------------------+----+\n",
            "only showing top 20 rows\n",
            "\n"
          ]
        }
      ],
      "source": [
        "finalized_data = output.select(\"Attributes\", \"medv\")\n",
        "finalized_data.show()"
      ]
    },
    {
      "cell_type": "code",
      "execution_count": 142,
      "metadata": {
        "id": "_0ElPN-WYW1J",
        "colab": {
          "base_uri": "https://localhost:8080/"
        },
        "outputId": "3bfb6003-5efc-4d6e-a17b-122740e630c1"
      },
      "outputs": [
        {
          "output_type": "stream",
          "name": "stdout",
          "text": [
            "+--------------------+----+\n",
            "|          Attributes|medv|\n",
            "+--------------------+----+\n",
            "|[0.00632,18.0,2.3...|24.0|\n",
            "|[0.02731,0.0,7.07...|21.6|\n",
            "|[0.02729,0.0,7.07...|34.7|\n",
            "|[0.03237,0.0,2.18...|33.4|\n",
            "|[0.06905,0.0,2.18...|36.2|\n",
            "|[0.02985,0.0,2.18...|28.7|\n",
            "|[0.08829,12.5,7.8...|22.9|\n",
            "|[0.14455,12.5,7.8...|27.1|\n",
            "|[0.21124,12.5,7.8...|16.5|\n",
            "|[0.17004,12.5,7.8...|18.9|\n",
            "|[0.22489,12.5,7.8...|15.0|\n",
            "|[0.11747,12.5,7.8...|18.9|\n",
            "|[0.09378,12.5,7.8...|21.7|\n",
            "|[0.62976,0.0,8.14...|20.4|\n",
            "|[0.63796,0.0,8.14...|18.2|\n",
            "|[0.62739,0.0,8.14...|19.9|\n",
            "|[1.05393,0.0,8.14...|23.1|\n",
            "|[0.7842,0.0,8.14,...|17.5|\n",
            "|[0.80271,0.0,8.14...|20.2|\n",
            "|[0.7258,0.0,8.14,...|18.2|\n",
            "+--------------------+----+\n",
            "only showing top 20 rows\n",
            "\n"
          ]
        }
      ],
      "source": [
        "df_final.show()"
      ]
    },
    {
      "cell_type": "code",
      "execution_count": 169,
      "metadata": {
        "id": "H1Skz60MXNkh"
      },
      "outputs": [],
      "source": [
        "splits = df_final.randomSplit([0.75, 0.25])\n",
        "train_df = splits[0]\n",
        "test_df = splits[1]"
      ]
    },
    {
      "cell_type": "code",
      "source": [
        "train_df.show(2)"
      ],
      "metadata": {
        "colab": {
          "base_uri": "https://localhost:8080/"
        },
        "id": "FE4tLPtcEWnY",
        "outputId": "1a200b47-1781-4fbd-b131-1388db03df15"
      },
      "execution_count": 207,
      "outputs": [
        {
          "output_type": "stream",
          "name": "stdout",
          "text": [
            "+--------------------+----+\n",
            "|   Attributes_Scaled|medv|\n",
            "+--------------------+----+\n",
            "|[9.26371566416239...|24.0|\n",
            "|[0.00132799468223...|32.2|\n",
            "+--------------------+----+\n",
            "only showing top 2 rows\n",
            "\n"
          ]
        }
      ]
    },
    {
      "cell_type": "code",
      "source": [
        "test_df.show(2)"
      ],
      "metadata": {
        "colab": {
          "base_uri": "https://localhost:8080/"
        },
        "id": "BpXRozdOEZKb",
        "outputId": "79b6967f-b7a3-438d-fed7-9be98fe48e8b"
      },
      "execution_count": 208,
      "outputs": [
        {
          "output_type": "stream",
          "name": "stdout",
          "text": [
            "+--------------------+----+\n",
            "|   Attributes_Scaled|medv|\n",
            "+--------------------+----+\n",
            "|[0.00177627271180...|31.1|\n",
            "|[0.00221648295862...|34.7|\n",
            "+--------------------+----+\n",
            "only showing top 2 rows\n",
            "\n"
          ]
        }
      ]
    },
    {
      "cell_type": "code",
      "source": [
        "from pyspark.mllib.feature import StandardScaler\n",
        "from pyspark.ml.feature import StandardScaler\n",
        "\n",
        "Scalerizer=StandardScaler().setInputCol(\"Attributes\").setOutputCol(\"Attributes_Scaled\")\n",
        "Scalerizer = Scalerizer.fit(train_df).transform(train_df)\n",
        "train_df = Scalerizer.select('Attributes_Scaled', 'medv')"
      ],
      "metadata": {
        "id": "J4Q5EGYO74vu"
      },
      "execution_count": 174,
      "outputs": []
    },
    {
      "cell_type": "code",
      "source": [
        "Scalerizer=StandardScaler().setInputCol(\"Attributes\").setOutputCol(\"Attributes_Scaled\")\n",
        "Scalerizer = Scalerizer.fit(test_df).transform(test_df)\n",
        "test_df = Scalerizer.select('Attributes_Scaled', 'medv')"
      ],
      "metadata": {
        "id": "1fSAK3MuDYH4"
      },
      "execution_count": 183,
      "outputs": []
    },
    {
      "cell_type": "code",
      "source": [
        "train_df.show(2)"
      ],
      "metadata": {
        "colab": {
          "base_uri": "https://localhost:8080/"
        },
        "id": "CVZPlcFOCDsR",
        "outputId": "e8f7f918-5204-4fb9-931b-3a2798636365"
      },
      "execution_count": 209,
      "outputs": [
        {
          "output_type": "stream",
          "name": "stdout",
          "text": [
            "+--------------------+----+\n",
            "|   Attributes_Scaled|medv|\n",
            "+--------------------+----+\n",
            "|[9.26371566416239...|24.0|\n",
            "|[0.00132799468223...|32.2|\n",
            "+--------------------+----+\n",
            "only showing top 2 rows\n",
            "\n"
          ]
        }
      ]
    },
    {
      "cell_type": "code",
      "source": [
        "test_df.show(2)"
      ],
      "metadata": {
        "colab": {
          "base_uri": "https://localhost:8080/"
        },
        "id": "C2n4eKREIHw6",
        "outputId": "51224773-54af-499d-a64f-c86f55c73be0"
      },
      "execution_count": 210,
      "outputs": [
        {
          "output_type": "stream",
          "name": "stdout",
          "text": [
            "+--------------------+----+\n",
            "|   Attributes_Scaled|medv|\n",
            "+--------------------+----+\n",
            "|[0.00177627271180...|31.1|\n",
            "|[0.00221648295862...|34.7|\n",
            "+--------------------+----+\n",
            "only showing top 2 rows\n",
            "\n"
          ]
        }
      ]
    },
    {
      "cell_type": "code",
      "source": [
        "test_df.show()"
      ],
      "metadata": {
        "colab": {
          "base_uri": "https://localhost:8080/"
        },
        "id": "_PUZ62dXDzUr",
        "outputId": "2ac1c6f5-28e0-43c7-d529-d91e05004373"
      },
      "execution_count": 184,
      "outputs": [
        {
          "output_type": "stream",
          "name": "stdout",
          "text": [
            "+--------------------+----+\n",
            "|   Attributes_Scaled|medv|\n",
            "+--------------------+----+\n",
            "|[0.00177627271180...|31.1|\n",
            "|[0.00221648295862...|34.7|\n",
            "|[0.00233506357861...|25.0|\n",
            "|[0.00262907854051...|33.4|\n",
            "|[0.00268512006640...|20.6|\n",
            "|[0.00278339578570...|19.5|\n",
            "|[0.00288410809309...|22.9|\n",
            "|[0.00290603738583...|45.4|\n",
            "|[0.00297182526405...|24.8|\n",
            "|[0.00314401082184...|23.2|\n",
            "|[0.00325771826567...|33.3|\n",
            "|[0.00349325511360...|18.2|\n",
            "|[0.00352249417059...|20.5|\n",
            "|[0.00355660640374...|19.4|\n",
            "|[0.00358746985277...|24.8|\n",
            "|[0.00369061874825...|19.8|\n",
            "|[0.00372797976551...|22.3|\n",
            "|[0.00385062136563...|11.9|\n",
            "|[0.00400575080686...|28.2|\n",
            "|[0.00404554841220...|23.4|\n",
            "+--------------------+----+\n",
            "only showing top 20 rows\n",
            "\n"
          ]
        }
      ]
    },
    {
      "cell_type": "code",
      "source": [
        "from pyspark.ml.regression import LinearRegression\n",
        "from pyspark.ml.feature import VectorAssembler"
      ],
      "metadata": {
        "id": "gy7MkSZNvoNM"
      },
      "execution_count": 185,
      "outputs": []
    },
    {
      "cell_type": "code",
      "execution_count": 186,
      "metadata": {
        "id": "zVdgvf9_X5zG"
      },
      "outputs": [],
      "source": [
        "\n",
        "from pyspark.ml.regression import LinearRegression\n",
        "regressor = LinearRegression(featuresCol = 'Attributes_Scaled', labelCol = 'medv')\n",
        "model_reg_train = regressor.fit(train_df)"
      ]
    },
    {
      "cell_type": "code",
      "execution_count": 187,
      "metadata": {
        "id": "szPijZ5lY21c",
        "colab": {
          "base_uri": "https://localhost:8080/"
        },
        "outputId": "45f37d2a-d49e-4313-e2e7-656b65c50615"
      },
      "outputs": [
        {
          "output_type": "stream",
          "name": "stdout",
          "text": [
            "Regressor: LinearRegression_d99f3769a54f\n",
            "(Fit) LinearRegressionModel: uid=LinearRegression_d99f3769a54f, numFeatures=13\n"
          ]
        }
      ],
      "source": [
        "print(\"Regressor:\", regressor)\n",
        "print(\"(Fit)\", model_reg_train)"
      ]
    },
    {
      "cell_type": "code",
      "source": [
        "pred_results_train = model_reg_train.evaluate(train_df)\n",
        "pred_results_train.predictions.show()"
      ],
      "metadata": {
        "id": "c-pCBH7luKKM",
        "colab": {
          "base_uri": "https://localhost:8080/"
        },
        "outputId": "cffcce73-7c04-4de4-f093-19f35929da8d"
      },
      "execution_count": 188,
      "outputs": [
        {
          "output_type": "stream",
          "name": "stdout",
          "text": [
            "+--------------------+----+------------------+\n",
            "|   Attributes_Scaled|medv|        prediction|\n",
            "+--------------------+----+------------------+\n",
            "|[9.26371566416239...|24.0| 30.09930707306624|\n",
            "|[0.00132799468223...|32.2|32.159369433398076|\n",
            "|[0.00160649246327...|22.0| 27.88833944711397|\n",
            "|[0.00190697691124...|32.7| 30.77307893831582|\n",
            "|[0.00192163468919...|35.4| 31.39224495044899|\n",
            "|[0.00199345780114...|18.9|15.091098695119825|\n",
            "|[0.00202423913484...|50.0|41.063665884362216|\n",
            "|[0.00209899380238...|31.6|  33.2398891158903|\n",
            "|[0.00210925424695...|29.1| 32.00628655951501|\n",
            "|[0.00220013247023...|24.5|27.822525328860948|\n",
            "|[0.00220013247023...|50.0|46.580987691945055|\n",
            "|[0.00225436624865...|44.0| 37.61250312948491|\n",
            "|[0.00250501425159...|30.1|25.927424103546535|\n",
            "|[0.00260615291944...|32.9|30.849322078366765|\n",
            "|[0.00274100447657...|23.1|25.464674639686898|\n",
            "|[0.00285973247797...|33.0|23.750089101244356|\n",
            "|[0.00288025336710...|20.1| 20.59983134863723|\n",
            "|[0.00294474759007...|50.0| 43.31490995804399|\n",
            "|[0.00301217336864...|24.7| 25.06375649658468|\n",
            "|[0.00319099825963...|42.3| 37.49285546594397|\n",
            "+--------------------+----+------------------+\n",
            "only showing top 20 rows\n",
            "\n"
          ]
        }
      ]
    },
    {
      "cell_type": "code",
      "source": [
        "model_reg_test = regressor.fit(test_df)\n",
        "print(\"Regressor:\", regressor)\n",
        "print(\"(Fit)\", model_reg_test)"
      ],
      "metadata": {
        "id": "6Mm6dw9evgHZ",
        "colab": {
          "base_uri": "https://localhost:8080/"
        },
        "outputId": "62d0a213-9a38-4608-8db7-efd76a707e28"
      },
      "execution_count": 189,
      "outputs": [
        {
          "output_type": "stream",
          "name": "stdout",
          "text": [
            "Regressor: LinearRegression_d99f3769a54f\n",
            "(Fit) LinearRegressionModel: uid=LinearRegression_d99f3769a54f, numFeatures=13\n"
          ]
        }
      ]
    },
    {
      "cell_type": "code",
      "source": [
        "pred_results_test = model_reg_test.evaluate(test_df)\n",
        "pred_results_test.predictions.show(5)"
      ],
      "metadata": {
        "id": "TYpysTGhwPDe",
        "colab": {
          "base_uri": "https://localhost:8080/"
        },
        "outputId": "93cb1823-a3eb-462e-90d9-164d3901d831"
      },
      "execution_count": 211,
      "outputs": [
        {
          "output_type": "stream",
          "name": "stdout",
          "text": [
            "+--------------------+----+------------------+\n",
            "|   Attributes_Scaled|medv|        prediction|\n",
            "+--------------------+----+------------------+\n",
            "|[0.00177627271180...|31.1|29.730986736255165|\n",
            "|[0.00221648295862...|34.7| 30.71230224927109|\n",
            "|[0.00233506357861...|25.0| 28.24597897494614|\n",
            "|[0.00262907854051...|33.4| 28.74008476766926|\n",
            "|[0.00268512006640...|20.6|22.082827235126885|\n",
            "+--------------------+----+------------------+\n",
            "only showing top 5 rows\n",
            "\n"
          ]
        }
      ]
    },
    {
      "cell_type": "code",
      "source": [
        "print(\"Train Coefficients: \\n\" + str(model_reg_train.coefficients))\n",
        "print(\"Train Intercept: \\n\" + str(model_reg_train.intercept))\n",
        "\n",
        "print(\"\\nTest Coefficients: \\n\" + str(model_reg_test.coefficients))\n",
        "print(\"Test Intercept: \\n\" + str(model_reg_test.intercept))"
      ],
      "metadata": {
        "id": "wxp5z8Z2wcek",
        "colab": {
          "base_uri": "https://localhost:8080/"
        },
        "outputId": "4edaaa9f-b6dc-4031-c493-1c2cb9729329"
      },
      "execution_count": 191,
      "outputs": [
        {
          "output_type": "stream",
          "name": "stdout",
          "text": [
            "Train Coefficients: \n",
            "[-0.37593197619270136,1.0170052989243081,0.2626636086995223,1.0085143058842039,-1.8990441542625094,2.8610193354311764,-0.29560725796134146,-2.8595476281777015,2.4288751443861245,-2.225843364069171,-2.2183934910877903,0.809717499392588,-3.628540751749044]\n",
            "Train Intercept: \n",
            "37.242932352145246\n",
            "\n",
            "Test Coefficients: \n",
            "[-1.7477959769816334,0.7084820966736205,0.055369216780922034,-0.06451766112678475,-1.9741935583141184,2.0080440814193303,0.8619387097284451,-3.215406666800635,2.9761269068080636,-1.9044728757463407,-1.8787645126641548,1.0339104018479528,-4.310212221021413]\n",
            "Test Intercept: \n",
            "35.16289633737696\n"
          ]
        }
      ]
    },
    {
      "cell_type": "code",
      "source": [
        "trainingSummary = model_reg_train.summary\n",
        "print(\"RMSE: %f\" % trainingSummary.rootMeanSquaredError)\n",
        "print(\"r2: %f\" % trainingSummary.r2)"
      ],
      "metadata": {
        "id": "k4XVyvfWw1U5",
        "colab": {
          "base_uri": "https://localhost:8080/"
        },
        "outputId": "6bf831f1-f0a6-486b-c8ec-a698400436d3"
      },
      "execution_count": 192,
      "outputs": [
        {
          "output_type": "stream",
          "name": "stdout",
          "text": [
            "RMSE: 4.621798\n",
            "r2: 0.756885\n"
          ]
        }
      ]
    },
    {
      "cell_type": "code",
      "source": [
        "testSummary = model_reg_test.summary\n",
        "print(\"RMSE: %f\" % testSummary.rootMeanSquaredError)\n",
        "print(\"r2: %f\" % testSummary.r2)"
      ],
      "metadata": {
        "id": "64y3sd3Jx37m",
        "colab": {
          "base_uri": "https://localhost:8080/"
        },
        "outputId": "444309af-0db1-4914-f363-c89cba3d0566"
      },
      "execution_count": 193,
      "outputs": [
        {
          "output_type": "stream",
          "name": "stdout",
          "text": [
            "RMSE: 4.562139\n",
            "r2: 0.717351\n"
          ]
        }
      ]
    },
    {
      "cell_type": "code",
      "source": [
        "train_df.describe().show()"
      ],
      "metadata": {
        "id": "K5SWd33sx_Hm",
        "colab": {
          "base_uri": "https://localhost:8080/"
        },
        "outputId": "f7e690a1-e263-4662-c6d8-87780b6c281a"
      },
      "execution_count": 194,
      "outputs": [
        {
          "output_type": "stream",
          "name": "stdout",
          "text": [
            "+-------+-----------------+\n",
            "|summary|             medv|\n",
            "+-------+-----------------+\n",
            "|  count|              373|\n",
            "|   mean|22.85737265415552|\n",
            "| stddev|9.386164638811994|\n",
            "|    min|              5.0|\n",
            "|    max|             50.0|\n",
            "+-------+-----------------+\n",
            "\n"
          ]
        }
      ]
    },
    {
      "cell_type": "code",
      "source": [
        "test_df.describe().show()"
      ],
      "metadata": {
        "id": "j-SykKdjyEFv",
        "colab": {
          "base_uri": "https://localhost:8080/"
        },
        "outputId": "395e9b40-646d-4ea7-b6b4-487535154117"
      },
      "execution_count": 195,
      "outputs": [
        {
          "output_type": "stream",
          "name": "stdout",
          "text": [
            "+-------+------------------+\n",
            "|summary|              medv|\n",
            "+-------+------------------+\n",
            "|  count|               133|\n",
            "|   mean|21.622556390977444|\n",
            "| stddev| 8.613578221563495|\n",
            "|    min|               5.0|\n",
            "|    max|              50.0|\n",
            "+-------+------------------+\n",
            "\n"
          ]
        }
      ]
    },
    {
      "cell_type": "code",
      "source": [
        "train_result = model_reg_train.evaluate(train_df)\n",
        "print(\"Root Mean Squared Error (RMSE) on test data = %g\" % train_result.rootMeanSquaredError)"
      ],
      "metadata": {
        "id": "5ggaH_4Py5dy",
        "colab": {
          "base_uri": "https://localhost:8080/"
        },
        "outputId": "fdb4e78a-e404-4f9d-99c4-3be229d451f4"
      },
      "execution_count": 196,
      "outputs": [
        {
          "output_type": "stream",
          "name": "stdout",
          "text": [
            "Root Mean Squared Error (RMSE) on test data = 4.6218\n"
          ]
        }
      ]
    },
    {
      "cell_type": "code",
      "source": [
        "test_result = model_reg_test.evaluate(test_df)\n",
        "print(\"Root Mean Squared Error (RMSE) on test data = %g\" % test_result.rootMeanSquaredError)"
      ],
      "metadata": {
        "id": "EKUuSuvnzHFM",
        "colab": {
          "base_uri": "https://localhost:8080/"
        },
        "outputId": "45fe692f-23ba-498e-ba5c-abef51872c98"
      },
      "execution_count": 197,
      "outputs": [
        {
          "output_type": "stream",
          "name": "stdout",
          "text": [
            "Root Mean Squared Error (RMSE) on test data = 4.56214\n"
          ]
        }
      ]
    },
    {
      "cell_type": "code",
      "source": [
        "print('Train Rsquared Error :',train_result.r2)"
      ],
      "metadata": {
        "id": "QBt-u9PvzOvR",
        "colab": {
          "base_uri": "https://localhost:8080/"
        },
        "outputId": "c836b311-8d8a-46f4-ab2c-9d015de8f474"
      },
      "execution_count": 198,
      "outputs": [
        {
          "output_type": "stream",
          "name": "stdout",
          "text": [
            "Train Rsquared Error : 0.7568851454518244\n"
          ]
        }
      ]
    },
    {
      "cell_type": "code",
      "source": [
        "print('Test Rsquared Error :',test_result.r2)"
      ],
      "metadata": {
        "id": "Eif3jxzY0TGx",
        "colab": {
          "base_uri": "https://localhost:8080/"
        },
        "outputId": "318a8d92-63d3-49ae-c011-03a03784bf5c"
      },
      "execution_count": 199,
      "outputs": [
        {
          "output_type": "stream",
          "name": "stdout",
          "text": [
            "Test Rsquared Error : 0.7173509791154233\n"
          ]
        }
      ]
    },
    {
      "cell_type": "code",
      "source": [
        "print(\"Train MSE: \", model_reg_train.summary.meanSquaredError)\n",
        "print(\"Train MAE: \", model_reg_train.summary.meanAbsoluteError)\n",
        "\n",
        "print(\"\\nTest MSE: \", model_reg_test.summary.meanSquaredError)\n",
        "print(\"Test MAE: \", model_reg_test.summary.meanAbsoluteError)"
      ],
      "metadata": {
        "id": "xFSrO16M0hP1",
        "colab": {
          "base_uri": "https://localhost:8080/"
        },
        "outputId": "923fd6b3-7af8-4ba3-e269-7e60f4c6fae9"
      },
      "execution_count": 200,
      "outputs": [
        {
          "output_type": "stream",
          "name": "stdout",
          "text": [
            "Train MSE:  21.36101765550496\n",
            "Train MAE:  3.317521719088725\n",
            "\n",
            "Test MSE:  20.813110002034218\n",
            "Test MAE:  3.180407114483043\n"
          ]
        }
      ]
    },
    {
      "cell_type": "code",
      "source": [
        "train_data = model_reg_train.transform(train_df)\n",
        "train_data.show(2)\n",
        " \n",
        "x1_ax = range(0, train_data.count())\n",
        "y1_pred = train_data.select(\"prediction\").collect()\n",
        "y1_orig = train_data.select(\"medv\").collect()  "
      ],
      "metadata": {
        "id": "vH5KXYq503jD",
        "colab": {
          "base_uri": "https://localhost:8080/"
        },
        "outputId": "da99589e-d577-4af6-f123-ae095a0928ed"
      },
      "execution_count": 201,
      "outputs": [
        {
          "output_type": "stream",
          "name": "stdout",
          "text": [
            "+--------------------+----+------------------+\n",
            "|   Attributes_Scaled|medv|        prediction|\n",
            "+--------------------+----+------------------+\n",
            "|[9.26371566416239...|24.0| 30.09930707306624|\n",
            "|[0.00132799468223...|32.2|32.159369433398076|\n",
            "+--------------------+----+------------------+\n",
            "only showing top 2 rows\n",
            "\n"
          ]
        }
      ]
    },
    {
      "cell_type": "code",
      "source": [
        "plt.plot(x1_ax, y1_orig, label=\"original\")\n",
        "plt.plot(x1_ax, y1_pred, label=\"predicted\")\n",
        "plt.title(\"Boston train and predicted data\")\n",
        "plt.xlabel('X-axis')\n",
        "plt.ylabel('Y-axis')\n",
        "plt.legend(loc='best',fancybox=True, shadow=True)\n",
        "plt.grid(True)\n",
        "plt.show()  \n",
        " "
      ],
      "metadata": {
        "id": "7Bk-mz7U1OE6",
        "colab": {
          "base_uri": "https://localhost:8080/",
          "height": 295
        },
        "outputId": "d95b6694-c7c6-426e-8ec6-2fb748e639aa"
      },
      "execution_count": 202,
      "outputs": [
        {
          "output_type": "display_data",
          "data": {
            "text/plain": [
              "<Figure size 432x288 with 1 Axes>"
            ],
            "image/png": "[encoded data removed]"
          },
          "metadata": {
            "needs_background": "light"
          }
        }
      ]
    },
    {
      "cell_type": "code",
      "source": [
        "test_data = model_reg_test.transform(test_df)\n",
        "test_data.show(2)\n",
        " \n",
        "x2_ax = range(0, test_data.count())\n",
        "y2_pred = test_data.select(\"prediction\").collect()\n",
        "y2_orig = test_data.select(\"medv\").collect()  "
      ],
      "metadata": {
        "id": "EbLsR0Mj1kLU",
        "colab": {
          "base_uri": "https://localhost:8080/"
        },
        "outputId": "7e041a20-8d61-4f80-df30-42781bf463da"
      },
      "execution_count": 203,
      "outputs": [
        {
          "output_type": "stream",
          "name": "stdout",
          "text": [
            "+--------------------+----+------------------+\n",
            "|   Attributes_Scaled|medv|        prediction|\n",
            "+--------------------+----+------------------+\n",
            "|[0.00177627271180...|31.1|29.730986736255165|\n",
            "|[0.00221648295862...|34.7| 30.71230224927109|\n",
            "+--------------------+----+------------------+\n",
            "only showing top 2 rows\n",
            "\n"
          ]
        }
      ]
    },
    {
      "cell_type": "code",
      "source": [
        "plt.plot(x2_ax, y2_orig, label=\"original\")\n",
        "plt.plot(x2_ax, y2_pred, label=\"predicted\")\n",
        "plt.title(\"Boston test and predicted data\")\n",
        "plt.xlabel('X-axis')\n",
        "plt.ylabel('Y-axis')\n",
        "plt.legend(loc='best',fancybox=True, shadow=True)\n",
        "plt.grid(True)\n",
        "plt.show()  \n",
        " "
      ],
      "metadata": {
        "id": "59g0AWVE2PFB",
        "colab": {
          "base_uri": "https://localhost:8080/",
          "height": 295
        },
        "outputId": "54f35a64-189d-4c2e-8f05-122f8782f32c"
      },
      "execution_count": 204,
      "outputs": [
        {
          "output_type": "display_data",
          "data": {
            "text/plain": [
              "<Figure size 432x288 with 1 Axes>"
            ],
            "image/png": "[encoded data removed]"
          },
          "metadata": {
            "needs_background": "light"
          }
        }
      ]
    },
    {
      "cell_type": "code",
      "source": [],
      "metadata": {
        "id": "f_9nxftqEGHs"
      },
      "execution_count": null,
      "outputs": []
    }
  ],
  "metadata": {
    "colab": {
      "provenance": []
    },
    "kernelspec": {
      "display_name": "Python 3",
      "name": "python3"
    },
    "language_info": {
      "name": "python"
    }
  },
  "nbformat": 4,
  "nbformat_minor": 0
}